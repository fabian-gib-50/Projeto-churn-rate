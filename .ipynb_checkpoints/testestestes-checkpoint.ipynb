{
 "cells": [
  {
   "cell_type": "markdown",
   "id": "7b4bcd91",
   "metadata": {},
   "source": [
    "Blumenau SC"
   ]
  },
  {
   "cell_type": "markdown",
   "id": "22d62f7c",
   "metadata": {},
   "source": [
    "PROJETO DE DATA SCIENTIST COM MACHINE LEARNING - IA\n",
    "PROJETO SOBRE CHURN RATE\n",
    "\n",
    "O que é Churn Rate?\n",
    "\n",
    "Churn, numa definição mais generalista, é uma métrica que indica o número de clientes que cancelam em determinado período. Para calcular o churn, o que você precisa fazer é somar o número de clientes que cancelou seu produto/serviço no período analisado.\n",
    "\n",
    "Entender por que seus clientes abandonam o seu produto ou serviço é vital para conquistar um crescimento sustentável. Como o Churn tem um efeito negativo na receita de uma empresa, entender o que é esse indicador e como trabalhar para mitigar essa métrica é algo crítico para o sucesso de muitos negócios.\n",
    "\n",
    "Explorarei e análisarei a base de clientes com ocorrências de cancelamentos e queda na receita da \"EMPRESA NUNIQUE TELECOMUNICAÇÕES\"\n",
    "\n",
    "Neste projeto abordarei o tema taxa de churn das Empresas de modo Geral.\n",
    "\n",
    "Problema de negócio que atinge muitas empresas, e passa ser uma grande preocupação para os times de atendimento e relacinamento, bem como desafio para a área financeira, conseguir gerir a previsão de receitas, Breack Even Point.\n",
    "\n",
    "Na minha opinião, é oportunidade...principalmente para os times de Suporte e Relacionamento com Cliente, Retensão, Marketing e Vendas."
   ]
  },
  {
   "cell_type": "code",
   "execution_count": null,
   "id": "6d872f1c",
   "metadata": {},
   "outputs": [],
   "source": []
  },
  {
   "cell_type": "code",
   "execution_count": null,
   "id": "ed8c6399",
   "metadata": {},
   "outputs": [],
   "source": []
  },
  {
   "cell_type": "code",
   "execution_count": null,
   "id": "76562355",
   "metadata": {},
   "outputs": [],
   "source": []
  },
  {
   "cell_type": "code",
   "execution_count": 1,
   "id": "4522b6a6",
   "metadata": {},
   "outputs": [
    {
     "data": {
      "text/plain": [
       "2"
      ]
     },
     "execution_count": 1,
     "metadata": {},
     "output_type": "execute_result"
    }
   ],
   "source": [
    "1 + 1"
   ]
  },
  {
   "cell_type": "code",
   "execution_count": 2,
   "id": "7f914db2",
   "metadata": {},
   "outputs": [
    {
     "data": {
      "text/plain": [
       "10"
      ]
     },
     "execution_count": 2,
     "metadata": {},
     "output_type": "execute_result"
    }
   ],
   "source": [
    "5+5"
   ]
  },
  {
   "cell_type": "code",
   "execution_count": null,
   "id": "dc04e118",
   "metadata": {},
   "outputs": [],
   "source": [
    "100"
   ]
  },
  {
   "cell_type": "code",
   "execution_count": null,
   "id": "008d0098",
   "metadata": {},
   "outputs": [],
   "source": [
    "200"
   ]
  },
  {
   "cell_type": "code",
   "execution_count": null,
   "id": "5262644e",
   "metadata": {},
   "outputs": [],
   "source": [
    "400"
   ]
  }
 ],
 "metadata": {
  "kernelspec": {
   "display_name": "Python 3 (ipykernel)",
   "language": "python",
   "name": "python3"
  },
  "language_info": {
   "codemirror_mode": {
    "name": "ipython",
    "version": 3
   },
   "file_extension": ".py",
   "mimetype": "text/x-python",
   "name": "python",
   "nbconvert_exporter": "python",
   "pygments_lexer": "ipython3",
   "version": "3.9.13"
  }
 },
 "nbformat": 4,
 "nbformat_minor": 5
}
